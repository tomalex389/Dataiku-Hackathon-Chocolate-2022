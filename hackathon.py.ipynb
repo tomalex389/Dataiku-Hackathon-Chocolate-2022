{
 "cells": [
  {
   "cell_type": "code",
   "execution_count": 1,
   "id": "dc88c1d8",
   "metadata": {},
   "outputs": [],
   "source": [
    "import pandas as pd\n",
    "import seaborn as sns\n",
    "import matplotlib.pyplot as plt\n",
    "import numpy as np\n",
    "%matplotlib inline"
   ]
  },
  {
   "cell_type": "code",
   "execution_count": 2,
   "id": "424e3d4c",
   "metadata": {},
   "outputs": [],
   "source": [
    "df=pd.read_csv('data.csv')"
   ]
  },
  {
   "cell_type": "code",
   "execution_count": 3,
   "id": "f4d80b2e",
   "metadata": {},
   "outputs": [
    {
     "data": {
      "text/html": [
       "<div>\n",
       "<style scoped>\n",
       "    .dataframe tbody tr th:only-of-type {\n",
       "        vertical-align: middle;\n",
       "    }\n",
       "\n",
       "    .dataframe tbody tr th {\n",
       "        vertical-align: top;\n",
       "    }\n",
       "\n",
       "    .dataframe thead th {\n",
       "        text-align: right;\n",
       "    }\n",
       "</style>\n",
       "<table border=\"1\" class=\"dataframe\">\n",
       "  <thead>\n",
       "    <tr style=\"text-align: right;\">\n",
       "      <th></th>\n",
       "      <th>id</th>\n",
       "      <th>company_location</th>\n",
       "      <th>country_of_bean_origin</th>\n",
       "      <th>cocoa_percent</th>\n",
       "      <th>rating</th>\n",
       "      <th>sweet</th>\n",
       "      <th>nutty</th>\n",
       "      <th>cocoa</th>\n",
       "      <th>roasty</th>\n",
       "      <th>earthy</th>\n",
       "      <th>...</th>\n",
       "      <th>rich</th>\n",
       "      <th>dried.fruit</th>\n",
       "      <th>ingredient_Beans</th>\n",
       "      <th>ingredient_Sugar</th>\n",
       "      <th>ingredient_Sweetener</th>\n",
       "      <th>ingredient_Cocoa_Butter</th>\n",
       "      <th>ingredient_vanilla</th>\n",
       "      <th>ingredient_lecithin</th>\n",
       "      <th>ingredient_salt</th>\n",
       "      <th>number_of_ingredients</th>\n",
       "    </tr>\n",
       "  </thead>\n",
       "  <tbody>\n",
       "    <tr>\n",
       "      <th>0</th>\n",
       "      <td>1</td>\n",
       "      <td>U.S.A.</td>\n",
       "      <td>Tanzania</td>\n",
       "      <td>76.0</td>\n",
       "      <td>3.25</td>\n",
       "      <td>No</td>\n",
       "      <td>No</td>\n",
       "      <td>Yes</td>\n",
       "      <td>No</td>\n",
       "      <td>No</td>\n",
       "      <td>...</td>\n",
       "      <td>Yes</td>\n",
       "      <td>No</td>\n",
       "      <td>Yes</td>\n",
       "      <td>Yes</td>\n",
       "      <td>Yes</td>\n",
       "      <td>Yes</td>\n",
       "      <td>No</td>\n",
       "      <td>No</td>\n",
       "      <td>No</td>\n",
       "      <td>3.0</td>\n",
       "    </tr>\n",
       "    <tr>\n",
       "      <th>1</th>\n",
       "      <td>2</td>\n",
       "      <td>U.S.A.</td>\n",
       "      <td>Dominican Republic</td>\n",
       "      <td>76.0</td>\n",
       "      <td>3.50</td>\n",
       "      <td>No</td>\n",
       "      <td>No</td>\n",
       "      <td>Yes</td>\n",
       "      <td>No</td>\n",
       "      <td>No</td>\n",
       "      <td>...</td>\n",
       "      <td>No</td>\n",
       "      <td>No</td>\n",
       "      <td>Yes</td>\n",
       "      <td>Yes</td>\n",
       "      <td>Yes</td>\n",
       "      <td>Yes</td>\n",
       "      <td>No</td>\n",
       "      <td>No</td>\n",
       "      <td>No</td>\n",
       "      <td>3.0</td>\n",
       "    </tr>\n",
       "    <tr>\n",
       "      <th>2</th>\n",
       "      <td>3</td>\n",
       "      <td>U.S.A.</td>\n",
       "      <td>Madagascar</td>\n",
       "      <td>76.0</td>\n",
       "      <td>3.75</td>\n",
       "      <td>No</td>\n",
       "      <td>No</td>\n",
       "      <td>Yes</td>\n",
       "      <td>No</td>\n",
       "      <td>No</td>\n",
       "      <td>...</td>\n",
       "      <td>No</td>\n",
       "      <td>No</td>\n",
       "      <td>Yes</td>\n",
       "      <td>Yes</td>\n",
       "      <td>Yes</td>\n",
       "      <td>Yes</td>\n",
       "      <td>No</td>\n",
       "      <td>No</td>\n",
       "      <td>No</td>\n",
       "      <td>3.0</td>\n",
       "    </tr>\n",
       "    <tr>\n",
       "      <th>3</th>\n",
       "      <td>4</td>\n",
       "      <td>U.S.A.</td>\n",
       "      <td>Other</td>\n",
       "      <td>68.0</td>\n",
       "      <td>3.00</td>\n",
       "      <td>No</td>\n",
       "      <td>No</td>\n",
       "      <td>No</td>\n",
       "      <td>No</td>\n",
       "      <td>No</td>\n",
       "      <td>...</td>\n",
       "      <td>No</td>\n",
       "      <td>No</td>\n",
       "      <td>Yes</td>\n",
       "      <td>Yes</td>\n",
       "      <td>Yes</td>\n",
       "      <td>Yes</td>\n",
       "      <td>No</td>\n",
       "      <td>No</td>\n",
       "      <td>No</td>\n",
       "      <td>3.0</td>\n",
       "    </tr>\n",
       "    <tr>\n",
       "      <th>4</th>\n",
       "      <td>5</td>\n",
       "      <td>U.S.A.</td>\n",
       "      <td>Other</td>\n",
       "      <td>80.0</td>\n",
       "      <td>3.25</td>\n",
       "      <td>No</td>\n",
       "      <td>No</td>\n",
       "      <td>Yes</td>\n",
       "      <td>No</td>\n",
       "      <td>No</td>\n",
       "      <td>...</td>\n",
       "      <td>No</td>\n",
       "      <td>No</td>\n",
       "      <td>Yes</td>\n",
       "      <td>Yes</td>\n",
       "      <td>Yes</td>\n",
       "      <td>Yes</td>\n",
       "      <td>No</td>\n",
       "      <td>No</td>\n",
       "      <td>No</td>\n",
       "      <td>3.0</td>\n",
       "    </tr>\n",
       "    <tr>\n",
       "      <th>...</th>\n",
       "      <td>...</td>\n",
       "      <td>...</td>\n",
       "      <td>...</td>\n",
       "      <td>...</td>\n",
       "      <td>...</td>\n",
       "      <td>...</td>\n",
       "      <td>...</td>\n",
       "      <td>...</td>\n",
       "      <td>...</td>\n",
       "      <td>...</td>\n",
       "      <td>...</td>\n",
       "      <td>...</td>\n",
       "      <td>...</td>\n",
       "      <td>...</td>\n",
       "      <td>...</td>\n",
       "      <td>...</td>\n",
       "      <td>...</td>\n",
       "      <td>...</td>\n",
       "      <td>...</td>\n",
       "      <td>...</td>\n",
       "      <td>...</td>\n",
       "    </tr>\n",
       "    <tr>\n",
       "      <th>2125</th>\n",
       "      <td>2126</td>\n",
       "      <td>Other</td>\n",
       "      <td>Dominican Republic</td>\n",
       "      <td>70.0</td>\n",
       "      <td>3.75</td>\n",
       "      <td>No</td>\n",
       "      <td>No</td>\n",
       "      <td>No</td>\n",
       "      <td>No</td>\n",
       "      <td>No</td>\n",
       "      <td>...</td>\n",
       "      <td>No</td>\n",
       "      <td>No</td>\n",
       "      <td>Yes</td>\n",
       "      <td>Yes</td>\n",
       "      <td>Yes</td>\n",
       "      <td>Yes</td>\n",
       "      <td>No</td>\n",
       "      <td>No</td>\n",
       "      <td>Yes</td>\n",
       "      <td>4.0</td>\n",
       "    </tr>\n",
       "    <tr>\n",
       "      <th>2126</th>\n",
       "      <td>2127</td>\n",
       "      <td>Other</td>\n",
       "      <td>Blend</td>\n",
       "      <td>80.0</td>\n",
       "      <td>2.75</td>\n",
       "      <td>No</td>\n",
       "      <td>No</td>\n",
       "      <td>No</td>\n",
       "      <td>No</td>\n",
       "      <td>No</td>\n",
       "      <td>...</td>\n",
       "      <td>No</td>\n",
       "      <td>No</td>\n",
       "      <td>Yes</td>\n",
       "      <td>Yes</td>\n",
       "      <td>Yes</td>\n",
       "      <td>Yes</td>\n",
       "      <td>No</td>\n",
       "      <td>No</td>\n",
       "      <td>Yes</td>\n",
       "      <td>4.0</td>\n",
       "    </tr>\n",
       "    <tr>\n",
       "      <th>2127</th>\n",
       "      <td>2128</td>\n",
       "      <td>Other</td>\n",
       "      <td>Blend</td>\n",
       "      <td>75.0</td>\n",
       "      <td>3.00</td>\n",
       "      <td>No</td>\n",
       "      <td>No</td>\n",
       "      <td>Yes</td>\n",
       "      <td>No</td>\n",
       "      <td>Yes</td>\n",
       "      <td>...</td>\n",
       "      <td>No</td>\n",
       "      <td>No</td>\n",
       "      <td>Yes</td>\n",
       "      <td>Yes</td>\n",
       "      <td>Yes</td>\n",
       "      <td>Yes</td>\n",
       "      <td>No</td>\n",
       "      <td>No</td>\n",
       "      <td>No</td>\n",
       "      <td>3.0</td>\n",
       "    </tr>\n",
       "    <tr>\n",
       "      <th>2128</th>\n",
       "      <td>2129</td>\n",
       "      <td>Other</td>\n",
       "      <td>Other</td>\n",
       "      <td>70.0</td>\n",
       "      <td>3.25</td>\n",
       "      <td>No</td>\n",
       "      <td>No</td>\n",
       "      <td>No</td>\n",
       "      <td>No</td>\n",
       "      <td>No</td>\n",
       "      <td>...</td>\n",
       "      <td>No</td>\n",
       "      <td>No</td>\n",
       "      <td>Yes</td>\n",
       "      <td>Yes</td>\n",
       "      <td>Yes</td>\n",
       "      <td>Yes</td>\n",
       "      <td>No</td>\n",
       "      <td>No</td>\n",
       "      <td>No</td>\n",
       "      <td>3.0</td>\n",
       "    </tr>\n",
       "    <tr>\n",
       "      <th>2129</th>\n",
       "      <td>2130</td>\n",
       "      <td>Other</td>\n",
       "      <td>Belize</td>\n",
       "      <td>72.0</td>\n",
       "      <td>3.50</td>\n",
       "      <td>No</td>\n",
       "      <td>No</td>\n",
       "      <td>No</td>\n",
       "      <td>Yes</td>\n",
       "      <td>No</td>\n",
       "      <td>...</td>\n",
       "      <td>No</td>\n",
       "      <td>No</td>\n",
       "      <td>Yes</td>\n",
       "      <td>Yes</td>\n",
       "      <td>Yes</td>\n",
       "      <td>Yes</td>\n",
       "      <td>No</td>\n",
       "      <td>No</td>\n",
       "      <td>No</td>\n",
       "      <td>3.0</td>\n",
       "    </tr>\n",
       "  </tbody>\n",
       "</table>\n",
       "<p>2130 rows × 33 columns</p>\n",
       "</div>"
      ],
      "text/plain": [
       "        id company_location country_of_bean_origin  cocoa_percent  rating  \\\n",
       "0        1           U.S.A.               Tanzania           76.0    3.25   \n",
       "1        2           U.S.A.     Dominican Republic           76.0    3.50   \n",
       "2        3           U.S.A.             Madagascar           76.0    3.75   \n",
       "3        4           U.S.A.                  Other           68.0    3.00   \n",
       "4        5           U.S.A.                  Other           80.0    3.25   \n",
       "...    ...              ...                    ...            ...     ...   \n",
       "2125  2126            Other     Dominican Republic           70.0    3.75   \n",
       "2126  2127            Other                  Blend           80.0    2.75   \n",
       "2127  2128            Other                  Blend           75.0    3.00   \n",
       "2128  2129            Other                  Other           70.0    3.25   \n",
       "2129  2130            Other                 Belize           72.0    3.50   \n",
       "\n",
       "     sweet nutty cocoa roasty earthy  ... rich dried.fruit ingredient_Beans  \\\n",
       "0       No    No   Yes     No     No  ...  Yes          No              Yes   \n",
       "1       No    No   Yes     No     No  ...   No          No              Yes   \n",
       "2       No    No   Yes     No     No  ...   No          No              Yes   \n",
       "3       No    No    No     No     No  ...   No          No              Yes   \n",
       "4       No    No   Yes     No     No  ...   No          No              Yes   \n",
       "...    ...   ...   ...    ...    ...  ...  ...         ...              ...   \n",
       "2125    No    No    No     No     No  ...   No          No              Yes   \n",
       "2126    No    No    No     No     No  ...   No          No              Yes   \n",
       "2127    No    No   Yes     No    Yes  ...   No          No              Yes   \n",
       "2128    No    No    No     No     No  ...   No          No              Yes   \n",
       "2129    No    No    No    Yes     No  ...   No          No              Yes   \n",
       "\n",
       "     ingredient_Sugar ingredient_Sweetener ingredient_Cocoa_Butter  \\\n",
       "0                 Yes                  Yes                     Yes   \n",
       "1                 Yes                  Yes                     Yes   \n",
       "2                 Yes                  Yes                     Yes   \n",
       "3                 Yes                  Yes                     Yes   \n",
       "4                 Yes                  Yes                     Yes   \n",
       "...               ...                  ...                     ...   \n",
       "2125              Yes                  Yes                     Yes   \n",
       "2126              Yes                  Yes                     Yes   \n",
       "2127              Yes                  Yes                     Yes   \n",
       "2128              Yes                  Yes                     Yes   \n",
       "2129              Yes                  Yes                     Yes   \n",
       "\n",
       "     ingredient_vanilla ingredient_lecithin ingredient_salt  \\\n",
       "0                    No                  No              No   \n",
       "1                    No                  No              No   \n",
       "2                    No                  No              No   \n",
       "3                    No                  No              No   \n",
       "4                    No                  No              No   \n",
       "...                 ...                 ...             ...   \n",
       "2125                 No                  No             Yes   \n",
       "2126                 No                  No             Yes   \n",
       "2127                 No                  No              No   \n",
       "2128                 No                  No              No   \n",
       "2129                 No                  No              No   \n",
       "\n",
       "     number_of_ingredients  \n",
       "0                      3.0  \n",
       "1                      3.0  \n",
       "2                      3.0  \n",
       "3                      3.0  \n",
       "4                      3.0  \n",
       "...                    ...  \n",
       "2125                   4.0  \n",
       "2126                   4.0  \n",
       "2127                   3.0  \n",
       "2128                   3.0  \n",
       "2129                   3.0  \n",
       "\n",
       "[2130 rows x 33 columns]"
      ]
     },
     "execution_count": 3,
     "metadata": {},
     "output_type": "execute_result"
    }
   ],
   "source": [
    "df"
   ]
  },
  {
   "cell_type": "code",
   "execution_count": 4,
   "id": "3a28ff76",
   "metadata": {},
   "outputs": [
    {
     "data": {
      "text/plain": [
       "(2130, 33)"
      ]
     },
     "execution_count": 4,
     "metadata": {},
     "output_type": "execute_result"
    }
   ],
   "source": [
    "df.shape"
   ]
  },
  {
   "cell_type": "code",
   "execution_count": 5,
   "id": "895cf621",
   "metadata": {},
   "outputs": [
    {
     "data": {
      "text/plain": [
       "id                          0\n",
       "company_location            0\n",
       "country_of_bean_origin      0\n",
       "cocoa_percent               0\n",
       "rating                      0\n",
       "sweet                       0\n",
       "nutty                       0\n",
       "cocoa                       0\n",
       "roasty                      0\n",
       "earthy                      0\n",
       "creamy                      0\n",
       "sandy                       0\n",
       "fatty                       0\n",
       "floral                      0\n",
       "intense                     0\n",
       "spicy                       0\n",
       "sour                        0\n",
       "vanilla                     0\n",
       "fruit                       0\n",
       "molasses                    0\n",
       "woody                       0\n",
       "sticky                      0\n",
       "coffee                      0\n",
       "rich                        0\n",
       "dried.fruit                 0\n",
       "ingredient_Beans            0\n",
       "ingredient_Sugar            0\n",
       "ingredient_Sweetener        0\n",
       "ingredient_Cocoa_Butter     0\n",
       "ingredient_vanilla          0\n",
       "ingredient_lecithin         0\n",
       "ingredient_salt             0\n",
       "number_of_ingredients      70\n",
       "dtype: int64"
      ]
     },
     "execution_count": 5,
     "metadata": {},
     "output_type": "execute_result"
    }
   ],
   "source": [
    "df.isnull().sum()"
   ]
  },
  {
   "cell_type": "code",
   "execution_count": 6,
   "id": "759b40f8",
   "metadata": {},
   "outputs": [
    {
     "data": {
      "text/plain": [
       "array([  73,  137,  245,  271,  273,  274,  345,  353,  354,  413,  427,\n",
       "        462,  491,  494,  505,  506,  507,  508,  509,  526,  636,  653,\n",
       "        682,  717,  942,  999, 1003, 1005, 1010, 1068, 1076, 1077, 1106,\n",
       "       1107, 1124, 1125, 1137, 1138, 1191, 1192, 1268, 1269, 1364, 1382,\n",
       "       1386, 1387, 1428, 1494, 1635, 1646, 1668, 1695, 1696, 1697, 1698,\n",
       "       1699, 1745, 1921, 1957, 1977, 2015, 2016, 2018, 2019, 2020, 2036,\n",
       "       2037, 2038, 2056, 2066], dtype=int64)"
      ]
     },
     "execution_count": 6,
     "metadata": {},
     "output_type": "execute_result"
    }
   ],
   "source": [
    "np.where(df['number_of_ingredients'].isnull())[0]"
   ]
  },
  {
   "cell_type": "code",
   "execution_count": 7,
   "id": "fd1a2cd5",
   "metadata": {
    "scrolled": false
   },
   "outputs": [
    {
     "data": {
      "text/html": [
       "<div>\n",
       "<style scoped>\n",
       "    .dataframe tbody tr th:only-of-type {\n",
       "        vertical-align: middle;\n",
       "    }\n",
       "\n",
       "    .dataframe tbody tr th {\n",
       "        vertical-align: top;\n",
       "    }\n",
       "\n",
       "    .dataframe thead th {\n",
       "        text-align: right;\n",
       "    }\n",
       "</style>\n",
       "<table border=\"1\" class=\"dataframe\">\n",
       "  <thead>\n",
       "    <tr style=\"text-align: right;\">\n",
       "      <th></th>\n",
       "      <th>id</th>\n",
       "      <th>company_location</th>\n",
       "      <th>country_of_bean_origin</th>\n",
       "      <th>cocoa_percent</th>\n",
       "      <th>rating</th>\n",
       "      <th>sweet</th>\n",
       "      <th>nutty</th>\n",
       "      <th>cocoa</th>\n",
       "      <th>roasty</th>\n",
       "      <th>earthy</th>\n",
       "      <th>...</th>\n",
       "      <th>rich</th>\n",
       "      <th>dried.fruit</th>\n",
       "      <th>ingredient_Beans</th>\n",
       "      <th>ingredient_Sugar</th>\n",
       "      <th>ingredient_Sweetener</th>\n",
       "      <th>ingredient_Cocoa_Butter</th>\n",
       "      <th>ingredient_vanilla</th>\n",
       "      <th>ingredient_lecithin</th>\n",
       "      <th>ingredient_salt</th>\n",
       "      <th>number_of_ingredients</th>\n",
       "    </tr>\n",
       "  </thead>\n",
       "  <tbody>\n",
       "    <tr>\n",
       "      <th>73</th>\n",
       "      <td>74</td>\n",
       "      <td>Other</td>\n",
       "      <td>Peru</td>\n",
       "      <td>70.0</td>\n",
       "      <td>3.00</td>\n",
       "      <td>No</td>\n",
       "      <td>No</td>\n",
       "      <td>No</td>\n",
       "      <td>No</td>\n",
       "      <td>No</td>\n",
       "      <td>...</td>\n",
       "      <td>No</td>\n",
       "      <td>No</td>\n",
       "      <td>No</td>\n",
       "      <td>No</td>\n",
       "      <td>Yes</td>\n",
       "      <td>No</td>\n",
       "      <td>No</td>\n",
       "      <td>No</td>\n",
       "      <td>No</td>\n",
       "      <td>NaN</td>\n",
       "    </tr>\n",
       "    <tr>\n",
       "      <th>137</th>\n",
       "      <td>138</td>\n",
       "      <td>U.K.</td>\n",
       "      <td>Venezuela</td>\n",
       "      <td>100.0</td>\n",
       "      <td>1.75</td>\n",
       "      <td>No</td>\n",
       "      <td>Yes</td>\n",
       "      <td>No</td>\n",
       "      <td>No</td>\n",
       "      <td>No</td>\n",
       "      <td>...</td>\n",
       "      <td>No</td>\n",
       "      <td>No</td>\n",
       "      <td>No</td>\n",
       "      <td>No</td>\n",
       "      <td>Yes</td>\n",
       "      <td>No</td>\n",
       "      <td>No</td>\n",
       "      <td>No</td>\n",
       "      <td>No</td>\n",
       "      <td>NaN</td>\n",
       "    </tr>\n",
       "    <tr>\n",
       "      <th>245</th>\n",
       "      <td>246</td>\n",
       "      <td>France</td>\n",
       "      <td>Blend</td>\n",
       "      <td>100.0</td>\n",
       "      <td>1.50</td>\n",
       "      <td>No</td>\n",
       "      <td>No</td>\n",
       "      <td>No</td>\n",
       "      <td>No</td>\n",
       "      <td>No</td>\n",
       "      <td>...</td>\n",
       "      <td>No</td>\n",
       "      <td>No</td>\n",
       "      <td>No</td>\n",
       "      <td>No</td>\n",
       "      <td>Yes</td>\n",
       "      <td>No</td>\n",
       "      <td>No</td>\n",
       "      <td>No</td>\n",
       "      <td>No</td>\n",
       "      <td>NaN</td>\n",
       "    </tr>\n",
       "    <tr>\n",
       "      <th>271</th>\n",
       "      <td>272</td>\n",
       "      <td>Ecuador</td>\n",
       "      <td>Ecuador</td>\n",
       "      <td>100.0</td>\n",
       "      <td>1.50</td>\n",
       "      <td>No</td>\n",
       "      <td>No</td>\n",
       "      <td>No</td>\n",
       "      <td>No</td>\n",
       "      <td>No</td>\n",
       "      <td>...</td>\n",
       "      <td>No</td>\n",
       "      <td>No</td>\n",
       "      <td>No</td>\n",
       "      <td>No</td>\n",
       "      <td>Yes</td>\n",
       "      <td>No</td>\n",
       "      <td>No</td>\n",
       "      <td>No</td>\n",
       "      <td>No</td>\n",
       "      <td>NaN</td>\n",
       "    </tr>\n",
       "    <tr>\n",
       "      <th>273</th>\n",
       "      <td>274</td>\n",
       "      <td>U.S.A.</td>\n",
       "      <td>Belize</td>\n",
       "      <td>70.0</td>\n",
       "      <td>2.75</td>\n",
       "      <td>No</td>\n",
       "      <td>No</td>\n",
       "      <td>No</td>\n",
       "      <td>No</td>\n",
       "      <td>No</td>\n",
       "      <td>...</td>\n",
       "      <td>No</td>\n",
       "      <td>No</td>\n",
       "      <td>No</td>\n",
       "      <td>No</td>\n",
       "      <td>Yes</td>\n",
       "      <td>No</td>\n",
       "      <td>No</td>\n",
       "      <td>No</td>\n",
       "      <td>No</td>\n",
       "      <td>NaN</td>\n",
       "    </tr>\n",
       "    <tr>\n",
       "      <th>...</th>\n",
       "      <td>...</td>\n",
       "      <td>...</td>\n",
       "      <td>...</td>\n",
       "      <td>...</td>\n",
       "      <td>...</td>\n",
       "      <td>...</td>\n",
       "      <td>...</td>\n",
       "      <td>...</td>\n",
       "      <td>...</td>\n",
       "      <td>...</td>\n",
       "      <td>...</td>\n",
       "      <td>...</td>\n",
       "      <td>...</td>\n",
       "      <td>...</td>\n",
       "      <td>...</td>\n",
       "      <td>...</td>\n",
       "      <td>...</td>\n",
       "      <td>...</td>\n",
       "      <td>...</td>\n",
       "      <td>...</td>\n",
       "      <td>...</td>\n",
       "    </tr>\n",
       "    <tr>\n",
       "      <th>2036</th>\n",
       "      <td>2037</td>\n",
       "      <td>U.S.A.</td>\n",
       "      <td>Ecuador</td>\n",
       "      <td>100.0</td>\n",
       "      <td>2.00</td>\n",
       "      <td>No</td>\n",
       "      <td>No</td>\n",
       "      <td>No</td>\n",
       "      <td>No</td>\n",
       "      <td>No</td>\n",
       "      <td>...</td>\n",
       "      <td>No</td>\n",
       "      <td>No</td>\n",
       "      <td>No</td>\n",
       "      <td>No</td>\n",
       "      <td>Yes</td>\n",
       "      <td>No</td>\n",
       "      <td>No</td>\n",
       "      <td>No</td>\n",
       "      <td>No</td>\n",
       "      <td>NaN</td>\n",
       "    </tr>\n",
       "    <tr>\n",
       "      <th>2037</th>\n",
       "      <td>2038</td>\n",
       "      <td>U.S.A.</td>\n",
       "      <td>Ecuador</td>\n",
       "      <td>90.0</td>\n",
       "      <td>2.00</td>\n",
       "      <td>No</td>\n",
       "      <td>No</td>\n",
       "      <td>No</td>\n",
       "      <td>No</td>\n",
       "      <td>No</td>\n",
       "      <td>...</td>\n",
       "      <td>No</td>\n",
       "      <td>No</td>\n",
       "      <td>No</td>\n",
       "      <td>No</td>\n",
       "      <td>Yes</td>\n",
       "      <td>No</td>\n",
       "      <td>No</td>\n",
       "      <td>No</td>\n",
       "      <td>No</td>\n",
       "      <td>NaN</td>\n",
       "    </tr>\n",
       "    <tr>\n",
       "      <th>2038</th>\n",
       "      <td>2039</td>\n",
       "      <td>U.S.A.</td>\n",
       "      <td>Ecuador</td>\n",
       "      <td>75.0</td>\n",
       "      <td>3.00</td>\n",
       "      <td>No</td>\n",
       "      <td>No</td>\n",
       "      <td>Yes</td>\n",
       "      <td>No</td>\n",
       "      <td>Yes</td>\n",
       "      <td>...</td>\n",
       "      <td>No</td>\n",
       "      <td>No</td>\n",
       "      <td>No</td>\n",
       "      <td>No</td>\n",
       "      <td>Yes</td>\n",
       "      <td>No</td>\n",
       "      <td>No</td>\n",
       "      <td>No</td>\n",
       "      <td>No</td>\n",
       "      <td>NaN</td>\n",
       "    </tr>\n",
       "    <tr>\n",
       "      <th>2056</th>\n",
       "      <td>2057</td>\n",
       "      <td>Other</td>\n",
       "      <td>Other</td>\n",
       "      <td>72.0</td>\n",
       "      <td>2.50</td>\n",
       "      <td>No</td>\n",
       "      <td>No</td>\n",
       "      <td>No</td>\n",
       "      <td>No</td>\n",
       "      <td>No</td>\n",
       "      <td>...</td>\n",
       "      <td>No</td>\n",
       "      <td>No</td>\n",
       "      <td>No</td>\n",
       "      <td>No</td>\n",
       "      <td>Yes</td>\n",
       "      <td>No</td>\n",
       "      <td>No</td>\n",
       "      <td>No</td>\n",
       "      <td>No</td>\n",
       "      <td>NaN</td>\n",
       "    </tr>\n",
       "    <tr>\n",
       "      <th>2066</th>\n",
       "      <td>2067</td>\n",
       "      <td>U.K.</td>\n",
       "      <td>Other</td>\n",
       "      <td>100.0</td>\n",
       "      <td>2.25</td>\n",
       "      <td>No</td>\n",
       "      <td>No</td>\n",
       "      <td>No</td>\n",
       "      <td>No</td>\n",
       "      <td>No</td>\n",
       "      <td>...</td>\n",
       "      <td>No</td>\n",
       "      <td>No</td>\n",
       "      <td>No</td>\n",
       "      <td>No</td>\n",
       "      <td>Yes</td>\n",
       "      <td>No</td>\n",
       "      <td>No</td>\n",
       "      <td>No</td>\n",
       "      <td>No</td>\n",
       "      <td>NaN</td>\n",
       "    </tr>\n",
       "  </tbody>\n",
       "</table>\n",
       "<p>70 rows × 33 columns</p>\n",
       "</div>"
      ],
      "text/plain": [
       "        id company_location country_of_bean_origin  cocoa_percent  rating  \\\n",
       "73      74            Other                   Peru           70.0    3.00   \n",
       "137    138             U.K.              Venezuela          100.0    1.75   \n",
       "245    246           France                  Blend          100.0    1.50   \n",
       "271    272          Ecuador                Ecuador          100.0    1.50   \n",
       "273    274           U.S.A.                 Belize           70.0    2.75   \n",
       "...    ...              ...                    ...            ...     ...   \n",
       "2036  2037           U.S.A.                Ecuador          100.0    2.00   \n",
       "2037  2038           U.S.A.                Ecuador           90.0    2.00   \n",
       "2038  2039           U.S.A.                Ecuador           75.0    3.00   \n",
       "2056  2057            Other                  Other           72.0    2.50   \n",
       "2066  2067             U.K.                  Other          100.0    2.25   \n",
       "\n",
       "     sweet nutty cocoa roasty earthy  ... rich dried.fruit ingredient_Beans  \\\n",
       "73      No    No    No     No     No  ...   No          No               No   \n",
       "137     No   Yes    No     No     No  ...   No          No               No   \n",
       "245     No    No    No     No     No  ...   No          No               No   \n",
       "271     No    No    No     No     No  ...   No          No               No   \n",
       "273     No    No    No     No     No  ...   No          No               No   \n",
       "...    ...   ...   ...    ...    ...  ...  ...         ...              ...   \n",
       "2036    No    No    No     No     No  ...   No          No               No   \n",
       "2037    No    No    No     No     No  ...   No          No               No   \n",
       "2038    No    No   Yes     No    Yes  ...   No          No               No   \n",
       "2056    No    No    No     No     No  ...   No          No               No   \n",
       "2066    No    No    No     No     No  ...   No          No               No   \n",
       "\n",
       "     ingredient_Sugar ingredient_Sweetener ingredient_Cocoa_Butter  \\\n",
       "73                 No                  Yes                      No   \n",
       "137                No                  Yes                      No   \n",
       "245                No                  Yes                      No   \n",
       "271                No                  Yes                      No   \n",
       "273                No                  Yes                      No   \n",
       "...               ...                  ...                     ...   \n",
       "2036               No                  Yes                      No   \n",
       "2037               No                  Yes                      No   \n",
       "2038               No                  Yes                      No   \n",
       "2056               No                  Yes                      No   \n",
       "2066               No                  Yes                      No   \n",
       "\n",
       "     ingredient_vanilla ingredient_lecithin ingredient_salt  \\\n",
       "73                   No                  No              No   \n",
       "137                  No                  No              No   \n",
       "245                  No                  No              No   \n",
       "271                  No                  No              No   \n",
       "273                  No                  No              No   \n",
       "...                 ...                 ...             ...   \n",
       "2036                 No                  No              No   \n",
       "2037                 No                  No              No   \n",
       "2038                 No                  No              No   \n",
       "2056                 No                  No              No   \n",
       "2066                 No                  No              No   \n",
       "\n",
       "     number_of_ingredients  \n",
       "73                     NaN  \n",
       "137                    NaN  \n",
       "245                    NaN  \n",
       "271                    NaN  \n",
       "273                    NaN  \n",
       "...                    ...  \n",
       "2036                   NaN  \n",
       "2037                   NaN  \n",
       "2038                   NaN  \n",
       "2056                   NaN  \n",
       "2066                   NaN  \n",
       "\n",
       "[70 rows x 33 columns]"
      ]
     },
     "execution_count": 7,
     "metadata": {},
     "output_type": "execute_result"
    }
   ],
   "source": [
    "df.loc[[73,  137,  245,  271,  273,  274,  345,  353,  354,  413,  427,\n",
    "        462,  491,  494,  505,  506,  507,  508,  509,  526,  636,  653,\n",
    "        682,  717,  942,  999, 1003, 1005, 1010, 1068, 1076, 1077, 1106,\n",
    "       1107, 1124, 1125, 1137, 1138, 1191, 1192, 1268, 1269, 1364, 1382,\n",
    "       1386, 1387, 1428, 1494, 1635, 1646, 1668, 1695, 1696, 1697, 1698,\n",
    "       1699, 1745, 1921, 1957, 1977, 2015, 2016, 2018, 2019, 2020, 2036,\n",
    "       2037, 2038, 2056, 2066]]"
   ]
  },
  {
   "cell_type": "code",
   "execution_count": 8,
   "id": "5a21bc3e",
   "metadata": {},
   "outputs": [
    {
     "data": {
      "text/html": [
       "<div>\n",
       "<style scoped>\n",
       "    .dataframe tbody tr th:only-of-type {\n",
       "        vertical-align: middle;\n",
       "    }\n",
       "\n",
       "    .dataframe tbody tr th {\n",
       "        vertical-align: top;\n",
       "    }\n",
       "\n",
       "    .dataframe thead th {\n",
       "        text-align: right;\n",
       "    }\n",
       "</style>\n",
       "<table border=\"1\" class=\"dataframe\">\n",
       "  <thead>\n",
       "    <tr style=\"text-align: right;\">\n",
       "      <th></th>\n",
       "      <th>id</th>\n",
       "      <th>company_location</th>\n",
       "      <th>country_of_bean_origin</th>\n",
       "      <th>cocoa_percent</th>\n",
       "      <th>rating</th>\n",
       "      <th>sweet</th>\n",
       "      <th>nutty</th>\n",
       "      <th>cocoa</th>\n",
       "      <th>roasty</th>\n",
       "      <th>earthy</th>\n",
       "      <th>...</th>\n",
       "      <th>rich</th>\n",
       "      <th>dried.fruit</th>\n",
       "      <th>ingredient_Beans</th>\n",
       "      <th>ingredient_Sugar</th>\n",
       "      <th>ingredient_Sweetener</th>\n",
       "      <th>ingredient_Cocoa_Butter</th>\n",
       "      <th>ingredient_vanilla</th>\n",
       "      <th>ingredient_lecithin</th>\n",
       "      <th>ingredient_salt</th>\n",
       "      <th>number_of_ingredients</th>\n",
       "    </tr>\n",
       "  </thead>\n",
       "  <tbody>\n",
       "    <tr>\n",
       "      <th>358</th>\n",
       "      <td>359</td>\n",
       "      <td>Italy</td>\n",
       "      <td>Ecuador</td>\n",
       "      <td>100.0</td>\n",
       "      <td>3.5</td>\n",
       "      <td>No</td>\n",
       "      <td>No</td>\n",
       "      <td>No</td>\n",
       "      <td>No</td>\n",
       "      <td>No</td>\n",
       "      <td>...</td>\n",
       "      <td>No</td>\n",
       "      <td>No</td>\n",
       "      <td>Yes</td>\n",
       "      <td>No</td>\n",
       "      <td>Yes</td>\n",
       "      <td>No</td>\n",
       "      <td>No</td>\n",
       "      <td>No</td>\n",
       "      <td>No</td>\n",
       "      <td>1.0</td>\n",
       "    </tr>\n",
       "    <tr>\n",
       "      <th>1452</th>\n",
       "      <td>1453</td>\n",
       "      <td>U.S.A.</td>\n",
       "      <td>Blend</td>\n",
       "      <td>100.0</td>\n",
       "      <td>3.0</td>\n",
       "      <td>No</td>\n",
       "      <td>No</td>\n",
       "      <td>No</td>\n",
       "      <td>No</td>\n",
       "      <td>No</td>\n",
       "      <td>...</td>\n",
       "      <td>No</td>\n",
       "      <td>No</td>\n",
       "      <td>Yes</td>\n",
       "      <td>No</td>\n",
       "      <td>Yes</td>\n",
       "      <td>No</td>\n",
       "      <td>No</td>\n",
       "      <td>No</td>\n",
       "      <td>No</td>\n",
       "      <td>1.0</td>\n",
       "    </tr>\n",
       "    <tr>\n",
       "      <th>1753</th>\n",
       "      <td>1754</td>\n",
       "      <td>Canada</td>\n",
       "      <td>Ecuador</td>\n",
       "      <td>100.0</td>\n",
       "      <td>3.0</td>\n",
       "      <td>No</td>\n",
       "      <td>No</td>\n",
       "      <td>No</td>\n",
       "      <td>No</td>\n",
       "      <td>No</td>\n",
       "      <td>...</td>\n",
       "      <td>No</td>\n",
       "      <td>No</td>\n",
       "      <td>Yes</td>\n",
       "      <td>No</td>\n",
       "      <td>Yes</td>\n",
       "      <td>No</td>\n",
       "      <td>No</td>\n",
       "      <td>No</td>\n",
       "      <td>No</td>\n",
       "      <td>1.0</td>\n",
       "    </tr>\n",
       "  </tbody>\n",
       "</table>\n",
       "<p>3 rows × 33 columns</p>\n",
       "</div>"
      ],
      "text/plain": [
       "        id company_location country_of_bean_origin  cocoa_percent  rating  \\\n",
       "358    359            Italy                Ecuador          100.0     3.5   \n",
       "1452  1453           U.S.A.                  Blend          100.0     3.0   \n",
       "1753  1754           Canada                Ecuador          100.0     3.0   \n",
       "\n",
       "     sweet nutty cocoa roasty earthy  ... rich dried.fruit ingredient_Beans  \\\n",
       "358     No    No    No     No     No  ...   No          No              Yes   \n",
       "1452    No    No    No     No     No  ...   No          No              Yes   \n",
       "1753    No    No    No     No     No  ...   No          No              Yes   \n",
       "\n",
       "     ingredient_Sugar ingredient_Sweetener ingredient_Cocoa_Butter  \\\n",
       "358                No                  Yes                      No   \n",
       "1452               No                  Yes                      No   \n",
       "1753               No                  Yes                      No   \n",
       "\n",
       "     ingredient_vanilla ingredient_lecithin ingredient_salt  \\\n",
       "358                  No                  No              No   \n",
       "1452                 No                  No              No   \n",
       "1753                 No                  No              No   \n",
       "\n",
       "     number_of_ingredients  \n",
       "358                    1.0  \n",
       "1452                   1.0  \n",
       "1753                   1.0  \n",
       "\n",
       "[3 rows x 33 columns]"
      ]
     },
     "execution_count": 8,
     "metadata": {},
     "output_type": "execute_result"
    }
   ],
   "source": [
    "df.loc[df['number_of_ingredients']==1]"
   ]
  },
  {
   "cell_type": "code",
   "execution_count": 9,
   "id": "b108af8a",
   "metadata": {},
   "outputs": [
    {
     "data": {
      "text/plain": [
       "id                         2130\n",
       "company_location              9\n",
       "country_of_bean_origin       16\n",
       "cocoa_percent                45\n",
       "rating                       12\n",
       "sweet                         2\n",
       "nutty                         2\n",
       "cocoa                         2\n",
       "roasty                        2\n",
       "earthy                        2\n",
       "creamy                        2\n",
       "sandy                         2\n",
       "fatty                         2\n",
       "floral                        2\n",
       "intense                       2\n",
       "spicy                         2\n",
       "sour                          2\n",
       "vanilla                       2\n",
       "fruit                         2\n",
       "molasses                      2\n",
       "woody                         2\n",
       "sticky                        2\n",
       "coffee                        2\n",
       "rich                          2\n",
       "dried.fruit                   2\n",
       "ingredient_Beans              2\n",
       "ingredient_Sugar              2\n",
       "ingredient_Sweetener          1\n",
       "ingredient_Cocoa_Butter       2\n",
       "ingredient_vanilla            2\n",
       "ingredient_lecithin           2\n",
       "ingredient_salt               2\n",
       "number_of_ingredients         6\n",
       "dtype: int64"
      ]
     },
     "execution_count": 9,
     "metadata": {},
     "output_type": "execute_result"
    }
   ],
   "source": [
    "df.nunique()"
   ]
  },
  {
   "cell_type": "code",
   "execution_count": 10,
   "id": "7ba8e9f0",
   "metadata": {},
   "outputs": [],
   "source": [
    "df= df.drop(columns=\"ingredient_Sweetener\")"
   ]
  },
  {
   "cell_type": "code",
   "execution_count": 11,
   "id": "cfd091c8",
   "metadata": {},
   "outputs": [],
   "source": [
    "df['number_of_ingredients']= df['number_of_ingredients'].fillna(0)"
   ]
  },
  {
   "cell_type": "code",
   "execution_count": 12,
   "id": "a91af111",
   "metadata": {},
   "outputs": [
    {
     "name": "stdout",
     "output_type": "stream",
     "text": [
      "<class 'pandas.core.frame.DataFrame'>\n",
      "RangeIndex: 2130 entries, 0 to 2129\n",
      "Data columns (total 32 columns):\n",
      " #   Column                   Non-Null Count  Dtype  \n",
      "---  ------                   --------------  -----  \n",
      " 0   id                       2130 non-null   int64  \n",
      " 1   company_location         2130 non-null   object \n",
      " 2   country_of_bean_origin   2130 non-null   object \n",
      " 3   cocoa_percent            2130 non-null   float64\n",
      " 4   rating                   2130 non-null   float64\n",
      " 5   sweet                    2130 non-null   object \n",
      " 6   nutty                    2130 non-null   object \n",
      " 7   cocoa                    2130 non-null   object \n",
      " 8   roasty                   2130 non-null   object \n",
      " 9   earthy                   2130 non-null   object \n",
      " 10  creamy                   2130 non-null   object \n",
      " 11  sandy                    2130 non-null   object \n",
      " 12  fatty                    2130 non-null   object \n",
      " 13  floral                   2130 non-null   object \n",
      " 14  intense                  2130 non-null   object \n",
      " 15  spicy                    2130 non-null   object \n",
      " 16  sour                     2130 non-null   object \n",
      " 17  vanilla                  2130 non-null   object \n",
      " 18  fruit                    2130 non-null   object \n",
      " 19  molasses                 2130 non-null   object \n",
      " 20  woody                    2130 non-null   object \n",
      " 21  sticky                   2130 non-null   object \n",
      " 22  coffee                   2130 non-null   object \n",
      " 23  rich                     2130 non-null   object \n",
      " 24  dried.fruit              2130 non-null   object \n",
      " 25  ingredient_Beans         2130 non-null   object \n",
      " 26  ingredient_Sugar         2130 non-null   object \n",
      " 27  ingredient_Cocoa_Butter  2130 non-null   object \n",
      " 28  ingredient_vanilla       2130 non-null   object \n",
      " 29  ingredient_lecithin      2130 non-null   object \n",
      " 30  ingredient_salt          2130 non-null   object \n",
      " 31  number_of_ingredients    2130 non-null   float64\n",
      "dtypes: float64(3), int64(1), object(28)\n",
      "memory usage: 532.6+ KB\n"
     ]
    }
   ],
   "source": [
    "df.info()"
   ]
  },
  {
   "cell_type": "code",
   "execution_count": 13,
   "id": "9facdc7e",
   "metadata": {},
   "outputs": [
    {
     "data": {
      "text/plain": [
       "Other                 487\n",
       "Peru                  209\n",
       "Venezuela             194\n",
       "Ecuador               183\n",
       "Dominican Republic    179\n",
       "Madagascar            153\n",
       "Blend                 142\n",
       "Nicaragua              84\n",
       "Vietnam                71\n",
       "Bolivia                70\n",
       "Tanzania               68\n",
       "Belize                 67\n",
       "Colombia               62\n",
       "Brazil                 62\n",
       "Guatemala              54\n",
       "Mexico                 45\n",
       "Name: country_of_bean_origin, dtype: int64"
      ]
     },
     "execution_count": 13,
     "metadata": {},
     "output_type": "execute_result"
    }
   ],
   "source": [
    "df['country_of_bean_origin'].value_counts()"
   ]
  },
  {
   "cell_type": "code",
   "execution_count": 14,
   "id": "8cab1ff9",
   "metadata": {},
   "outputs": [
    {
     "data": {
      "text/plain": [
       "U.S.A.       962\n",
       "Other        542\n",
       "France       153\n",
       "Canada       151\n",
       "U.K.         113\n",
       "Italy         68\n",
       "Belgium       53\n",
       "Ecuador       46\n",
       "Australia     42\n",
       "Name: company_location, dtype: int64"
      ]
     },
     "execution_count": 14,
     "metadata": {},
     "output_type": "execute_result"
    }
   ],
   "source": [
    "df['company_location'].value_counts()"
   ]
  },
  {
   "cell_type": "code",
   "execution_count": 15,
   "id": "4bfd26ce",
   "metadata": {},
   "outputs": [],
   "source": [
    "df.to_csv('cleaned_data.csv')"
   ]
  },
  {
   "cell_type": "code",
   "execution_count": 16,
   "id": "593f139d",
   "metadata": {},
   "outputs": [],
   "source": [
    "df=df.replace({'No': 0, 'Yes': 1})"
   ]
  },
  {
   "cell_type": "code",
   "execution_count": 17,
   "id": "47136aaa",
   "metadata": {},
   "outputs": [
    {
     "data": {
      "image/png": "[encoded data removed]",
      "text/plain": [
       "<Figure size 1440x720 with 1 Axes>"
      ]
     },
     "metadata": {
      "needs_background": "light"
     },
     "output_type": "display_data"
    }
   ],
   "source": [
    "plt.figure(figsize=(20,10))\n",
    "ax2 = sns.countplot(x ='rating', data= df, hue= 'company_location', palette= 'afmhot')"
   ]
  },
  {
   "cell_type": "code",
   "execution_count": 18,
   "id": "1a28424b",
   "metadata": {},
   "outputs": [
    {
     "data": {
      "image/png": "[encoded data removed]",
      "text/plain": [
       "<Figure size 1440x720 with 1 Axes>"
      ]
     },
     "metadata": {
      "needs_background": "light"
     },
     "output_type": "display_data"
    }
   ],
   "source": [
    "plt.figure(figsize=(20,10))\n",
    "ax3 = sns.countplot(x ='rating', data= df, hue= 'country_of_bean_origin', palette= 'Set1')"
   ]
  },
  {
   "cell_type": "code",
   "execution_count": 19,
   "id": "17d72bac",
   "metadata": {},
   "outputs": [
    {
     "data": {
      "text/plain": [
       "[Text(0.5, 0, 'cocoa_percent with respect to rating')]"
      ]
     },
     "execution_count": 19,
     "metadata": {},
     "output_type": "execute_result"
    },
    {
     "data": {
      "image/png": "[encoded data removed]",
      "text/plain": [
       "<Figure size 1584x936 with 1 Axes>"
      ]
     },
     "metadata": {
      "needs_background": "light"
     },
     "output_type": "display_data"
    }
   ],
   "source": [
    "plt.figure(figsize=(22,13))\n",
    "ax1 = sns.countplot(x ='cocoa_percent', data= df, hue= 'rating', palette= 'rainbow')\n",
    "ax1.set(xlabel = 'cocoa_percent with respect to rating')"
   ]
  },
  {
   "cell_type": "code",
   "execution_count": 20,
   "id": "d024428a",
   "metadata": {
    "scrolled": true
   },
   "outputs": [
    {
     "data": {
      "text/plain": [
       "[Text(0.5, 0, 'ratings x earthy')]"
      ]
     },
     "execution_count": 20,
     "metadata": {},
     "output_type": "execute_result"
    },
    {
     "data": {
      "text/plain": [
       "<Figure size 1440x1440 with 0 Axes>"
      ]
     },
     "metadata": {},
     "output_type": "display_data"
    },
    {
     "data": {
      "image/png": "[encoded data removed]",
      "text/plain": [
       "<Figure size 1440x1440 with 4 Axes>"
      ]
     },
     "metadata": {
      "needs_background": "light"
     },
     "output_type": "display_data"
    }
   ],
   "source": [
    "plt.figure(figsize=(20,20))\n",
    "fig, ax = plt.subplots(2, 2, figsize=(20,20))\n",
    "ax1 = sns.countplot(x ='rating', data= df, hue= 'sweet', ax= ax[0, 0], palette= 'YlGn')\n",
    "ax1.set(xlabel = 'ratings x sweet')\n",
    "ax2 = sns.countplot(x ='rating', data= df, hue= 'nutty', ax= ax[0, 1], palette= 'afmhot')\n",
    "ax2.set(xlabel = 'ratings x nutty')\n",
    "ax3 = sns.countplot(x ='rating', data= df, hue= 'roasty', ax= ax[1, 0], palette= 'Set1')\n",
    "ax3.set(xlabel = 'ratings x roasty')\n",
    "ax4 = sns.countplot(x ='rating', data= df, hue= 'earthy', ax= ax[1, 1], palette= 'RdPu')\n",
    "ax4.set(xlabel = 'ratings x earthy')"
   ]
  },
  {
   "cell_type": "code",
   "execution_count": 21,
   "id": "3ad21673",
   "metadata": {
    "scrolled": true
   },
   "outputs": [
    {
     "data": {
      "text/plain": [
       "[Text(0.5, 0, 'ratings x floral')]"
      ]
     },
     "execution_count": 21,
     "metadata": {},
     "output_type": "execute_result"
    },
    {
     "data": {
      "text/plain": [
       "<Figure size 1440x1440 with 0 Axes>"
      ]
     },
     "metadata": {},
     "output_type": "display_data"
    },
    {
     "data": {
      "image/png": "[encoded data removed]",
      "text/plain": [
       "<Figure size 1440x1440 with 4 Axes>"
      ]
     },
     "metadata": {
      "needs_background": "light"
     },
     "output_type": "display_data"
    }
   ],
   "source": [
    "plt.figure(figsize=(20,20))\n",
    "fig, ax = plt.subplots(2, 2, figsize=(20,20))\n",
    "ax1 = sns.countplot(x ='rating', data= df, hue= 'creamy', ax= ax[0, 0], palette= 'magma')\n",
    "ax1.set(xlabel = 'ratings x creamy')\n",
    "ax2 = sns.countplot(x ='rating', data= df, hue= 'sandy', ax= ax[0, 1], palette= 'ocean')\n",
    "ax2.set(xlabel = 'ratings x sandy')\n",
    "ax3 = sns.countplot(x ='rating', data= df, hue= 'fatty', ax= ax[1, 0], palette= 'OrRd')\n",
    "ax3.set(xlabel = 'ratings x fatty')\n",
    "ax4 = sns.countplot(x ='rating', data= df, hue= 'floral', ax= ax[1, 1], palette= 'BuGn')\n",
    "ax4.set(xlabel = 'ratings x floral')"
   ]
  },
  {
   "cell_type": "code",
   "execution_count": 22,
   "id": "85a5ab1d",
   "metadata": {
    "scrolled": true
   },
   "outputs": [
    {
     "data": {
      "text/plain": [
       "[Text(0.5, 0, 'ratings x vanilla')]"
      ]
     },
     "execution_count": 22,
     "metadata": {},
     "output_type": "execute_result"
    },
    {
     "data": {
      "text/plain": [
       "<Figure size 1440x1440 with 0 Axes>"
      ]
     },
     "metadata": {},
     "output_type": "display_data"
    },
    {
     "data": {
      "image/png": "[encoded data removed]",
      "text/plain": [
       "<Figure size 1440x1440 with 4 Axes>"
      ]
     },
     "metadata": {
      "needs_background": "light"
     },
     "output_type": "display_data"
    }
   ],
   "source": [
    "plt.figure(figsize=(20,20))\n",
    "fig, ax = plt.subplots(2, 2, figsize=(20,20))\n",
    "ax1 = sns.countplot(x ='rating', data= df, hue= 'intense', ax= ax[0, 0], palette= 'autumn')\n",
    "ax1.set(xlabel = 'ratings x intense')\n",
    "ax2 = sns.countplot(x ='rating', data= df, hue= 'spicy', ax= ax[0, 1], palette= 'rainbow')\n",
    "ax2.set(xlabel = 'ratings x spicy')\n",
    "ax3 = sns.countplot(x ='rating', data= df, hue= 'sour', ax= ax[1, 0], palette= 'RdYlBu')\n",
    "ax3.set(xlabel = 'ratings x sour')\n",
    "ax4 = sns.countplot(x ='rating', data= df, hue= 'vanilla', ax= ax[1, 1], palette= 'plasma')\n",
    "ax4.set(xlabel = 'ratings x vanilla')"
   ]
  },
  {
   "cell_type": "code",
   "execution_count": 32,
   "id": "da4141cd",
   "metadata": {},
   "outputs": [
    {
     "data": {
      "image/png": "[encoded data removed]",
      "text/plain": [
       "<Figure size 576x576 with 1 Axes>"
      ]
     },
     "metadata": {
      "needs_background": "light"
     },
     "output_type": "display_data"
    }
   ],
   "source": [
    "plt.figure(figsize=(8,8))\n",
    "plt.suptitle('Ratings x Cacao', fontsize = 15, color= 'teal')\n",
    "ax1 = sns.countplot(x ='rating', data= df, hue= 'cocoa', palette= 'summer_r')\n",
    "ax1.set(xlabel = 'rating x cacao')\n",
    "plt.tight_layout()\n",
    "plt.show()"
   ]
  },
  {
   "cell_type": "code",
   "execution_count": 23,
   "id": "77a9cdb5",
   "metadata": {},
   "outputs": [
    {
     "data": {
      "text/plain": [
       "[Text(0.5, 0, 'ratings x rich')]"
      ]
     },
     "execution_count": 23,
     "metadata": {},
     "output_type": "execute_result"
    },
    {
     "data": {
      "text/plain": [
       "<Figure size 1440x1440 with 0 Axes>"
      ]
     },
     "metadata": {},
     "output_type": "display_data"
    },
    {
     "data": {
      "image/png": "[encoded data removed]",
      "text/plain": [
       "<Figure size 1440x1440 with 6 Axes>"
      ]
     },
     "metadata": {
      "needs_background": "light"
     },
     "output_type": "display_data"
    }
   ],
   "source": [
    "plt.figure(figsize=(20,20))\n",
    "fig, ax = plt.subplots(3, 2, figsize=(20,20))\n",
    "ax1 = sns.countplot(x ='rating', data= df, hue= 'fruit', ax= ax[0, 0], palette= 'autumn_r')\n",
    "ax1.set(xlabel = 'ratings x fruit')\n",
    "ax2 = sns.countplot(x ='rating', data= df, hue= 'molasses', ax= ax[0, 1], palette= 'rainbow_r')\n",
    "ax2.set(xlabel = 'ratings x molasses')\n",
    "ax3 = sns.countplot(x ='rating', data= df, hue= 'woody', ax= ax[1, 0], palette= 'afmhot_r')\n",
    "ax3.set(xlabel = 'ratings x woody')\n",
    "ax4 = sns.countplot(x ='rating', data= df, hue= 'sticky', ax= ax[1, 1], palette= 'RdYlBu_r')\n",
    "ax4.set(xlabel = 'ratings x sticky')\n",
    "ax5 = sns.countplot(x ='rating', data= df, hue= 'coffee', ax= ax[2, 0], palette= 'RdYlBu')\n",
    "ax5.set(xlabel = 'ratings x coffee')\n",
    "ax6 = sns.countplot(x ='rating', data= df, hue= 'rich', ax= ax[2, 1], palette= 'plasma_r')\n",
    "ax6.set(xlabel = 'ratings x rich')"
   ]
  },
  {
   "cell_type": "code",
   "execution_count": 24,
   "id": "43a17da1",
   "metadata": {},
   "outputs": [
    {
     "data": {
      "image/png": "[encoded data removed]",
      "text/plain": [
       "<Figure size 576x576 with 1 Axes>"
      ]
     },
     "metadata": {
      "needs_background": "light"
     },
     "output_type": "display_data"
    }
   ],
   "source": [
    "plt.figure(figsize=(8,8))\n",
    "plt.suptitle('Count plot for various Contract', fontsize = 15, color= 'teal')\n",
    "ax1 = sns.countplot(x ='rating', data= df, hue= 'dried.fruit', palette= 'summer_r')\n",
    "ax1.set(xlabel = 'rating x dried.fruit')\n",
    "plt.tight_layout()\n",
    "plt.show()"
   ]
  },
  {
   "cell_type": "code",
   "execution_count": 25,
   "id": "979ecee7",
   "metadata": {},
   "outputs": [
    {
     "data": {
      "image/png": "[encoded data removed]",
      "text/plain": [
       "<Figure size 576x576 with 1 Axes>"
      ]
     },
     "metadata": {
      "needs_background": "light"
     },
     "output_type": "display_data"
    }
   ],
   "source": [
    "plt.figure(figsize=(8,8))\n",
    "plt.suptitle('Count plot for various Contract', fontsize = 15, color= 'teal')\n",
    "ax1 = sns.countplot(x ='rating', data= df, hue= 'number_of_ingredients', palette= 'hot')\n",
    "ax1.set(xlabel = 'rating x number_of_ingredients')\n",
    "plt.tight_layout()\n",
    "plt.show()"
   ]
  },
  {
   "cell_type": "code",
   "execution_count": 26,
   "id": "a5591184",
   "metadata": {},
   "outputs": [
    {
     "name": "stdout",
     "output_type": "stream",
     "text": [
      "<class 'pandas.core.frame.DataFrame'>\n",
      "RangeIndex: 2130 entries, 0 to 2129\n",
      "Data columns (total 32 columns):\n",
      " #   Column                   Non-Null Count  Dtype  \n",
      "---  ------                   --------------  -----  \n",
      " 0   id                       2130 non-null   int64  \n",
      " 1   company_location         2130 non-null   object \n",
      " 2   country_of_bean_origin   2130 non-null   object \n",
      " 3   cocoa_percent            2130 non-null   float64\n",
      " 4   rating                   2130 non-null   float64\n",
      " 5   sweet                    2130 non-null   int64  \n",
      " 6   nutty                    2130 non-null   int64  \n",
      " 7   cocoa                    2130 non-null   int64  \n",
      " 8   roasty                   2130 non-null   int64  \n",
      " 9   earthy                   2130 non-null   int64  \n",
      " 10  creamy                   2130 non-null   int64  \n",
      " 11  sandy                    2130 non-null   int64  \n",
      " 12  fatty                    2130 non-null   int64  \n",
      " 13  floral                   2130 non-null   int64  \n",
      " 14  intense                  2130 non-null   int64  \n",
      " 15  spicy                    2130 non-null   int64  \n",
      " 16  sour                     2130 non-null   int64  \n",
      " 17  vanilla                  2130 non-null   int64  \n",
      " 18  fruit                    2130 non-null   int64  \n",
      " 19  molasses                 2130 non-null   int64  \n",
      " 20  woody                    2130 non-null   int64  \n",
      " 21  sticky                   2130 non-null   int64  \n",
      " 22  coffee                   2130 non-null   int64  \n",
      " 23  rich                     2130 non-null   int64  \n",
      " 24  dried.fruit              2130 non-null   int64  \n",
      " 25  ingredient_Beans         2130 non-null   int64  \n",
      " 26  ingredient_Sugar         2130 non-null   int64  \n",
      " 27  ingredient_Cocoa_Butter  2130 non-null   int64  \n",
      " 28  ingredient_vanilla       2130 non-null   int64  \n",
      " 29  ingredient_lecithin      2130 non-null   int64  \n",
      " 30  ingredient_salt          2130 non-null   int64  \n",
      " 31  number_of_ingredients    2130 non-null   float64\n",
      "dtypes: float64(3), int64(27), object(2)\n",
      "memory usage: 532.6+ KB\n"
     ]
    }
   ],
   "source": [
    "df.info()"
   ]
  },
  {
   "cell_type": "code",
   "execution_count": 27,
   "id": "85418858",
   "metadata": {},
   "outputs": [
    {
     "data": {
      "text/plain": [
       "70.0     876\n",
       "75.0     256\n",
       "72.0     250\n",
       "80.0      77\n",
       "65.0      77\n",
       "68.0      64\n",
       "73.0      62\n",
       "74.0      56\n",
       "60.0      43\n",
       "71.0      37\n",
       "77.0      33\n",
       "67.0      31\n",
       "85.0      31\n",
       "76.0      29\n",
       "64.0      27\n",
       "78.0      21\n",
       "66.0      21\n",
       "82.0      17\n",
       "55.0      14\n",
       "100.0     14\n",
       "62.0      13\n",
       "63.0      12\n",
       "69.0      11\n",
       "90.0       7\n",
       "61.0       7\n",
       "88.0       6\n",
       "58.0       6\n",
       "83.0       4\n",
       "81.0       4\n",
       "84.0       3\n",
       "72.5       3\n",
       "89.0       2\n",
       "79.0       2\n",
       "99.0       2\n",
       "56.0       2\n",
       "73.5       1\n",
       "46.0       1\n",
       "50.0       1\n",
       "57.0       1\n",
       "91.0       1\n",
       "60.5       1\n",
       "71.5       1\n",
       "42.0       1\n",
       "86.0       1\n",
       "53.0       1\n",
       "Name: cocoa_percent, dtype: int64"
      ]
     },
     "execution_count": 27,
     "metadata": {},
     "output_type": "execute_result"
    }
   ],
   "source": [
    "df['cocoa_percent'].value_counts()"
   ]
  },
  {
   "cell_type": "code",
   "execution_count": 28,
   "id": "ceb88eb6",
   "metadata": {},
   "outputs": [
    {
     "data": {
      "text/plain": [
       "(2130, 32)"
      ]
     },
     "execution_count": 28,
     "metadata": {},
     "output_type": "execute_result"
    }
   ],
   "source": [
    "df.shape"
   ]
  },
  {
   "cell_type": "code",
   "execution_count": 29,
   "id": "634ee6d1",
   "metadata": {},
   "outputs": [
    {
     "name": "stdout",
     "output_type": "stream",
     "text": [
      "Index(['id', 'company_location', 'country_of_bean_origin', 'cocoa_percent',\n",
      "       'rating', 'sweet', 'nutty', 'cocoa', 'roasty', 'earthy', 'creamy',\n",
      "       'sandy', 'fatty', 'floral', 'intense', 'spicy', 'sour', 'vanilla',\n",
      "       'fruit', 'molasses', 'woody', 'sticky', 'coffee', 'rich', 'dried.fruit',\n",
      "       'ingredient_Beans', 'ingredient_Sugar', 'ingredient_Cocoa_Butter',\n",
      "       'ingredient_vanilla', 'ingredient_lecithin', 'ingredient_salt',\n",
      "       'number_of_ingredients'],\n",
      "      dtype='object')\n"
     ]
    }
   ],
   "source": [
    "print(df. columns)"
   ]
  },
  {
   "cell_type": "code",
   "execution_count": null,
   "id": "b91da2b8",
   "metadata": {},
   "outputs": [],
   "source": []
  },
  {
   "cell_type": "code",
   "execution_count": null,
   "id": "8bfbc469",
   "metadata": {},
   "outputs": [],
   "source": []
  }
 ],
 "metadata": {
  "kernelspec": {
   "display_name": "Python 3 (ipykernel)",
   "language": "python",
   "name": "python3"
  },
  "language_info": {
   "codemirror_mode": {
    "name": "ipython",
    "version": 3
   },
   "file_extension": ".py",
   "mimetype": "text/x-python",
   "name": "python",
   "nbconvert_exporter": "python",
   "pygments_lexer": "ipython3",
   "version": "3.9.13"
  }
 },
 "nbformat": 4,
 "nbformat_minor": 5
}
